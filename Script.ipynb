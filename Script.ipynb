{
 "cells": [
  {
   "cell_type": "markdown",
   "metadata": {},
   "source": [
    "## Load packages"
   ]
  },
  {
   "cell_type": "code",
   "execution_count": 1,
   "metadata": {},
   "outputs": [
    {
     "name": "stderr",
     "output_type": "stream",
     "text": [
      "Warning: optional dependency `torch` is not available. - skipping import of NN models.\n"
     ]
    }
   ],
   "source": [
    "import pandas as pd\n",
    "from sklearn.model_selection import train_test_split\n",
    "from sklearn import metrics\n",
    "from supervised.automl import AutoML\n",
    "from tpot import TPOTClassifier\n",
    "import h2o\n",
    "from h2o.automl import H2OAutoML\n",
    "import matplotlib.pyplot as plt\n",
    "import numpy as np\n",
    "import random"
   ]
  },
  {
   "cell_type": "markdown",
   "metadata": {},
   "source": [
    "## Load SMS data"
   ]
  },
  {
   "cell_type": "code",
   "execution_count": null,
   "metadata": {},
   "outputs": [],
   "source": [
    "# a random seed is used to ensure that results are reproducible\n",
    "seed = 1234\n",
    "random.seed(seed)\n",
    "\n",
    "# Load SMS data\n",
    "df = pd.read_csv('IG.csv')\n",
    "\n",
    "# Split inputs and outputs from the data\n",
    "inputs = df.iloc[:,:-2]\n",
    "outputs = df.iloc[:,-1]\n",
    "\n",
    "# Create train and test sets\n",
    "X_train, X_test, y_train, y_test = train_test_split(inputs, outputs, test_size = 0.25, random_state=seed, stratify = outputs)\n",
    "\n",
    "# The number of features that will be used as inputs\n",
    "num_features = [50, 100, 200]"
   ]
  },
  {
   "cell_type": "markdown",
   "metadata": {},
   "source": [
    "## A function to show the results"
   ]
  },
  {
   "cell_type": "code",
   "execution_count": null,
   "metadata": {},
   "outputs": [],
   "source": [
    "def show_results( y_test, predictions):\n",
    "    # ROC AUC\n",
    "    fpr, tpr, _ = metrics.roc_curve(y_test, predictions)\n",
    "    roc_auc = metrics.auc(fpr, tpr)\n",
    "    print(\"AUC: {AUC}\".format(AUC=roc_auc))\n",
    "    \n",
    "    # Confusion_matrix\n",
    "    tn, fp, fn, tp = metrics.confusion_matrix(y_test, predictions, labels=[0, 1]).ravel()\n",
    "    print(\"(tn, fp, fn, tp): ({tn}, {fp}, {fn}, {tp})\".format(tn=tn, fp=fp, fn=fn, tp=tp))\n",
    "    \n",
    "    # Matthews correlation coefficient (MCC)\n",
    "    print(\"Matthews correlation coefficient: {MCC}\".format(MCC=metrics.matthews_corrcoef(y_test, predictions)))\n",
    "    \n",
    "    # Log-loss\n",
    "    print(\"Log loss: {loss}\".format(loss=metrics.log_loss(y_test, predictions)))\n",
    "    \n",
    "    # classification report\n",
    "    print(metrics.classification_report(y_test, predictions))\n",
    "    \n",
    "    # ROC AUC\n",
    "    plt.figure()\n",
    "    lw = 2\n",
    "    plt.plot(fpr, tpr, color='darkorange',\n",
    "         lw=lw, label='ROC curve (area = %0.2f)' % roc_auc)\n",
    "    plt.plot([0, 1], [0, 1], color='navy', lw=lw, linestyle='--')\n",
    "    plt.xlim([0.0, 1.0])\n",
    "    plt.ylim([0.0, 1.05])\n",
    "    plt.xlabel('False Positive Rate')\n",
    "    plt.ylabel('True Positive Rate')\n",
    "    plt.title('Receiver operating characteristic example')\n",
    "    plt.legend(loc=\"lower right\")\n",
    "    plt.show()\n",
    "    \n",
    "    return"
   ]
  },
  {
   "cell_type": "markdown",
   "metadata": {},
   "source": [
    "## Modelling and prediction using AutoML"
   ]
  },
  {
   "cell_type": "code",
   "execution_count": null,
   "metadata": {},
   "outputs": [],
   "source": [
    "\n",
    "hours = 2 \n",
    "for i in num_features:\n",
    "    \n",
    "    automl = AutoML(\n",
    "        algorithms = [\"Baseline\",\"Decision Tree\", \"Random Forest\", \"Xgboost\", \"LightGBM\", \n",
    "                    \"CatBoost\", \"Extra Trees\", \"Neural Network\", \"Nearest Neighbors\"],\n",
    "        ml_task = \"binary_classification\",\n",
    "        validation_strategy = { \n",
    "            \"validation_type\": \"kfold\",\n",
    "            \"k_folds\": 5,\n",
    "            \"shuffle\": True,\n",
    "            \"stratify\": True,\n",
    "            \"random_seed\": seed\n",
    "        },\n",
    "        total_time_limit = hours * 60 * 60, explain_level = 2,\n",
    "        golden_features = True, features_selection = True,        \n",
    "        start_random_models = 5,\n",
    "        hill_climbing_steps = 2, top_models_to_improve = 2,\n",
    "        eval_metric = 'logloss', random_state = seed\n",
    "        stack_models= True
    "    )\n",
    "    \n",
    "    # Fit an AutoML model\n",
    "    automl.fit(X_train.iloc[:,0:i], y_train)\n",
    "    \n",
    "    # Prediction\n",
    "    predictions = automl.predict(X_test.iloc[:,0:i])\n",
    "    print(\"Number of features: {features}\".format(features=i))\n",
    "    show_results( y_test, predictions)\n",
    "    \n",
    "    hours = hours + 1\n"
   ]
  },
  {
   "cell_type": "markdown",
   "metadata": {},
   "source": [
    "## Modelling and prediction using H2O AutoML"
   ]
  },
  {
   "cell_type": "code",
   "execution_count": null,
   "metadata": {},
   "outputs": [],
   "source": [
    "h2o.init()\n",
    "y_train.columns = [\"class\"]\n",
    "y_test.columns = [\"class\"]\n",
    "y = \"class\"\n",
    "\n",
    "hours = 2\n",
    "\n",
    "for i in num_features:\n",
    "    \n",
    "    train_frame = h2o.H2OFrame(pd.concat([X_train.iloc[:,0:i], y_train], axis=1))\n",
    "    train_frame[\"class\"] = train_frame[\"class\"].asfactor()\n",
    "    x = train_frame.columns\n",
    "    x.remove(y)\n",
    "\n",
    "    aml = H2OAutoML(max_runtime_secs = hours * 60 * 60, \n",
    "                    stopping_metric = \"logloss\", verbosity = \"info\", seed = seed, \n",
    "                    sort_metric = \"logloss\")\n",
    "    \n",
    "    aml.train(x=x, y=y, training_frame=train_frame)\n",
    "\n",
    "    h2o.save_model(aml.leader)\n",
    "    \n",
    "    test_frame = h2o.H2OFrame(pd.concat([X_test.iloc[:,0:i], y_test], axis=1))\n",
    "    test_frame[\"class\"] = test_frame[\"class\"].asfactor()   \n",
    "    predictions = aml.leader.predict(test_frame)\n",
    "    \n",
    "    print(h2o.automl.get_leaderboard(aml, extra_columns = 'ALL'))\n",
    "    \n",
    "    print(\"Number of features: {features}\".format(features=i))\n",
    "    show_results( y_test, h2o.as_list(predictions['predict']))\n",
    "    \n",
    "    hours = hours + 1\n"
   ]
  },
  {
   "cell_type": "markdown",
   "metadata": {},
   "source": [
    "## Modelling and prediction using TPOT"
   ]
  },
  {
   "cell_type": "code",
   "execution_count": null,
   "metadata": {},
   "outputs": [],
   "source": [
    "\n",
    "hours = 2\n",
    "\n",
    "for i in num_features:\n",
    "    \n",
    "    tpot = TPOTClassifier(scoring = 'neg_log_loss', cv = 5, verbosity = 2,\n",
    "            max_time_mins = hours * 60, random_state = seed)\n",
    "    \n",
    "    tpot.fit(X_train.iloc[:,0:i], y_train)\n",
    "    tpot.export('tpot_digits_pipeline{features}.py'.format(features=i))\n",
    "\n",
    "    predictions = tpot.predict(X_test.iloc[:,0:i])\n",
    "    \n",
    "    print(\"Number of features: {features}\".format(features=i))\n",
    "    show_results( y_test, predictions)\n",
    "    \n",
    "    hours = hours + 1"
   ]
  }
 ],
 "metadata": {
  "kernelspec": {
   "display_name": "Python 3",
   "language": "python",
   "name": "python3"
  },
  "language_info": {
   "codemirror_mode": {
    "name": "ipython",
    "version": 3
   },
   "file_extension": ".py",
   "mimetype": "text/x-python",
   "name": "python",
   "nbconvert_exporter": "python",
   "pygments_lexer": "ipython3",
   "version": "3.8.5"
  }
 },
 "nbformat": 4,
 "nbformat_minor": 4
}
